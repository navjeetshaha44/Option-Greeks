{
 "cells": [
  {
   "cell_type": "code",
   "execution_count": 5,
   "metadata": {},
   "outputs": [
    {
     "name": "stdout",
     "output_type": "stream",
     "text": [
      "{'user_id': 'TH5186', 'user_type': 'individual', 'email': 'navjeetshaha44@gmail.com', 'user_name': 'Navjeet Shaha', 'user_shortname': 'Navjeet', 'broker': 'ZERODHA', 'exchanges': ['CDS', 'BSE', 'MF', 'NSE', 'NFO'], 'products': ['CNC', 'NRML', 'MIS', 'BO', 'CO'], 'order_types': ['MARKET', 'LIMIT', 'SL', 'SL-M'], 'avatar_url': None, 'meta': {'demat_consent': 'consent'}}\n"
     ]
    }
   ],
   "source": [
    "import datetime\n",
    "import pandas as pd\n",
    "import numpy as np\n",
    "import time\n",
    "from kiteconnect import KiteConnect\n",
    "from jugaad_trader import Zerodha\n",
    "kite = Zerodha()\n",
    "# Set access token loads the stored session.\n",
    "# Name chosen to keep it compatible with kiteconnect.\n",
    "kite.set_access_token() # loads the session from config folder\n",
    "profile = kite.profile()\n",
    "print(profile)"
   ]
  },
  {
   "cell_type": "code",
   "execution_count": 6,
   "metadata": {},
   "outputs": [
    {
     "name": "stdout",
     "output_type": "stream",
     "text": [
      "       Delta      Theta     Gamma        Vega  Rho\n",
      "0  28.636395 -320.58963  0.036067  820.572375  NaN\n",
      "       Delta       Theta     Gamma        Vega  Rho\n",
      "0  28.621967 -320.583515  0.036072  820.663982  NaN\n",
      "       Delta       Theta     Gamma       Vega  Rho\n",
      "0  28.634591 -320.588873  0.036067  820.58385  NaN\n",
      "       Delta       Theta     Gamma        Vega  Rho\n",
      "0  28.701291 -320.615442  0.036041  820.154811  NaN\n",
      "       Delta       Theta     Gamma        Vega  Rho\n",
      "0  28.780546 -320.643193  0.036009  819.632611  NaN\n",
      "       Delta       Theta    Gamma        Vega  Rho\n",
      "0  28.753535 -320.634201  0.03602  819.812096  NaN\n",
      "       Delta       Theta     Gamma        Vega  Rho\n",
      "0  28.749933 -320.632965  0.036021  819.835913  NaN\n",
      "       Delta       Theta     Gamma        Vega  Rho\n",
      "0  28.780546 -320.643193  0.036009  819.632611  NaN\n",
      "       Delta      Theta     Gamma        Vega  Rho\n",
      "0  28.879514 -320.67202  0.035968  818.961586  NaN\n",
      "       Delta       Theta     Gamma        Vega  Rho\n",
      "0  28.924462 -320.682973  0.035949  818.649877  NaN\n",
      "       Delta       Theta     Gamma       Vega  Rho\n",
      "0  28.865125 -320.668231  0.035974  819.06045  NaN\n",
      "       Delta       Theta     Gamma        Vega  Rho\n",
      "0  28.845337 -320.662797  0.035982  819.195687  NaN\n",
      "       Delta       Theta     Gamma        Vega  Rho\n",
      "0  28.701291 -320.615442  0.036041  820.154811  NaN\n",
      "       Delta      Theta     Gamma        Vega  Rho\n",
      "0  28.609341 -320.57805  0.036077  820.743783  NaN\n"
     ]
    },
    {
     "ename": "KeyboardInterrupt",
     "evalue": "",
     "output_type": "error",
     "traceback": [
      "\u001b[1;31m---------------------------------------------------------------------------\u001b[0m",
      "\u001b[1;31mKeyboardInterrupt\u001b[0m                         Traceback (most recent call last)",
      "\u001b[1;32m<ipython-input-6-3c5c56d80bba>\u001b[0m in \u001b[0;36m<module>\u001b[1;34m\u001b[0m\n\u001b[0;32m     34\u001b[0m \u001b[1;33m\u001b[0m\u001b[0m\n\u001b[0;32m     35\u001b[0m \u001b[1;33m\u001b[0m\u001b[0m\n\u001b[1;32m---> 36\u001b[1;33m     \u001b[0mtime\u001b[0m\u001b[1;33m.\u001b[0m\u001b[0msleep\u001b[0m\u001b[1;33m(\u001b[0m\u001b[1;36m5\u001b[0m\u001b[1;33m)\u001b[0m\u001b[1;33m\u001b[0m\u001b[1;33m\u001b[0m\u001b[0m\n\u001b[0m\u001b[0;32m     37\u001b[0m \u001b[1;33m\u001b[0m\u001b[0m\n\u001b[0;32m     38\u001b[0m \u001b[1;33m\u001b[0m\u001b[0m\n",
      "\u001b[1;31mKeyboardInterrupt\u001b[0m: "
     ]
    }
   ],
   "source": [
    "import opstrat as op\n",
    "import pandas as pd\n",
    "import datetime\n",
    "\n",
    "df1=pd.DataFrame(columns=['Delta','Theta','Gamma','Vega','Rho'],index=[0])\n",
    "\n",
    "while datetime.datetime.now()<datetime.datetime(2021,12,10,17,0):\n",
    "    \n",
    "    cont=50\n",
    "    ltp=kite.ltp('NFO:NIFTY21DECFUT')['NFO:NIFTY21DECFUT']['last_price']\n",
    "    strike=round(kite.ltp('NFO:NIFTY21DECFUT')['NFO:NIFTY21DECFUT']['last_price'],-2)\n",
    "    K=strike    #spot price\n",
    "    St=ltp   #current stock price\n",
    "    r=5      #4% risk free rate\n",
    "    t=21    #time to expiry, 21 days \n",
    "    v=13     #volatility \n",
    "    type='c' #Option type call\n",
    "    #Black Scholes Model\n",
    "    bsm=op.black_scholes(K=K, St=St, r=r, t=t, \n",
    "                     v=v, type='c')\n",
    "    \n",
    "    delta=bsm['greeks']['delta']*cont\n",
    "    theta=bsm['greeks']['theta']*cont\n",
    "    gamma=bsm['greeks']['gamma']*cont\n",
    "    vega=bsm['greeks']['vega']*cont\n",
    "    \n",
    "    df1['Delta']=delta\n",
    "    df1['Gamma']=gamma\n",
    "    df1['Theta']=theta\n",
    "    df1['Vega']=vega\n",
    "    \n",
    "    print(df1)\n",
    "    \n",
    "\n",
    "    \n",
    "    time.sleep(5)\n",
    "\n",
    "    \n",
    "\n"
   ]
  },
  {
   "cell_type": "code",
   "execution_count": null,
   "metadata": {},
   "outputs": [],
   "source": []
  }
 ],
 "metadata": {
  "kernelspec": {
   "display_name": "Python 3",
   "language": "python",
   "name": "python3"
  },
  "language_info": {
   "codemirror_mode": {
    "name": "ipython",
    "version": 3
   },
   "file_extension": ".py",
   "mimetype": "text/x-python",
   "name": "python",
   "nbconvert_exporter": "python",
   "pygments_lexer": "ipython3",
   "version": "3.7.6"
  }
 },
 "nbformat": 4,
 "nbformat_minor": 4
}
